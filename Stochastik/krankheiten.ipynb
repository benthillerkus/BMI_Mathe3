{
 "cells": [
  {
   "cell_type": "markdown",
   "metadata": {},
   "source": [
    "# Anwendung des Satz von Bayes - Krankhheiten\n",
    "Im diesen Notebook soll der Satz von Bayes mit einem Beispiel veranschaulicht werden. Im Folgenden werden wir die wollen wir die Wahrscheinlichkeit berechnen mit welcher ein Test eine bestimmte Krankheit korrekt diagnostiziert. Konkret wollen wir die Wahrscheinlichkeit $Pr(K \\vert T)$ berechnen. $K$ ist das Ereignis krank zu sein und $T$ das Ereignis eines positiven Tests. Zur Lösung wird der Satz von Bayes $Pr(K \\vert T) = \\frac{Pr(T \\vert K) \\cdot Pr(K)}{Pr(T \\vert K) \\cdot Pr(K) + Pr(T \\vert \\bar{K}) \\cdot Pr(\\bar{K})}$ angewendet. \n",
    "Hierbei benötigen wir die Wahrscheinlichkeit $Pr(K)$ krank zu sein mit der Gegenwahrscheinlichkeit $Pr(\\bar{K})$ gesund zu sein. Zudem muss berechnet werden wie wahrscheinlich ein positiver Test ist mit der Bedingung, dass jemand jeweils krank bzw. gesund ist. Diese Wahrscheinlichkeiten sind mit $Pr(T \\vert K)$ bzw. $Pr(T \\vert \\bar{K})$ gekennzeichnet. \n",
    "\n",
    "Zunächst werden die benötigten Bibliotheken importiert. "
   ]
  },
  {
   "cell_type": "code",
   "execution_count": 1,
   "metadata": {},
   "outputs": [],
   "source": [
    "import numpy as np\n",
    "import matplotlib.pyplot as plt"
   ]
  },
  {
   "cell_type": "markdown",
   "metadata": {},
   "source": [
    "Anschließend erzeugen wir einen Datensatz *D*. Mit der Variable *nPersons* kann die Anzahl der Personen verändert werden. "
   ]
  },
  {
   "cell_type": "code",
   "execution_count": 2,
   "metadata": {
    "scrolled": true
   },
   "outputs": [
    {
     "name": "stdout",
     "output_type": "stream",
     "text": [
      "Person 0 has tested negative (D[0, 0] == 0).\n",
      "Person 0 is ill (D[0, 1] == 1).\n",
      "Person 1 has tested negative (D[1, 0] == 0).\n",
      "Person 1 is healthy (D[1, 1] == 0).\n",
      "Person 2 has tested positive (D[2, 0] == 1).\n",
      "Person 2 is healthy (D[2, 1] == 0).\n",
      "Person 3 has tested negative (D[3, 0] == 0).\n",
      "Person 3 is healthy (D[3, 1] == 0).\n",
      "Person 4 has tested negative (D[4, 0] == 0).\n",
      "Person 4 is ill (D[4, 1] == 1).\n"
     ]
    }
   ],
   "source": [
    "nPersons = 100\n",
    "if nPersons < 10:\n",
    "    print(\"You have chosen a size of persons which is < 10. Hence, we set apply the default size of 100.\")\n",
    "    nPersons = 100\n",
    "'''\n",
    "Generate a dataset with test results and information about the health status.\n",
    "Each row of D represents a person. The first column represents the test result.\n",
    "The second column represents the status of health. Technically, a random matrix\n",
    "with 0's and 1's is created with the size nPersons by 2. \n",
    "\n",
    "D[i, 0] == 0: negative test result\n",
    "D[i, 0] == 1: positive test result\n",
    "D[i, 1] == 0: healthy\n",
    "D[i, 1] == 1: ill\n",
    "'''\n",
    "# all values of D will be 0 or 1 (binary)\n",
    "D = np.random.randint(low=0, high=2, size=(nPersons,2))\n",
    "\n",
    "def printTrueHealth(D, i):\n",
    "    \"\"\"\n",
    "    print the true status of health of a person.\n",
    "    \n",
    "    Parameters:\n",
    "        D (numpy.ndarray):\n",
    "            Dataset where second column represents the status of health. \n",
    "    Returns:\n",
    "        None\n",
    "    \"\"\"\n",
    "    # prevent index out of array exception\n",
    "    if i >= len(D[:]):\n",
    "        return\n",
    "    if D[i, 1] == 1:\n",
    "        print(\"Person {0} is ill (D[{0}, 1] == 1).\".format(i))\n",
    "    else:\n",
    "        print(\"Person {0} is healthy (D[{0}, 1] == 0).\".format(i))\n",
    "\n",
    "# print some test results\n",
    "for i in range(nPersons):\n",
    "    if i > 4:\n",
    "        break\n",
    "    if D[i, 0] == 1:\n",
    "        print(\"Person {0} has tested positive (D[{0}, 0] == 1).\".format(i))\n",
    "        printTrueHealth(D, i)\n",
    "    else:\n",
    "        print(\"Person {0} has tested negative (D[{0}, 0] == 0).\".format(i))\n",
    "        printTrueHealth(D, i)"
   ]
  },
  {
   "cell_type": "markdown",
   "metadata": {},
   "source": [
    "Um einen Überblick über die Daten zu erhalten werden wir die Anzahl der positiven und negativen Testergebnisse ausgeben. Ebenso werden wir die Anzahl an gesunden und kranken Personen in der Population ausgeben. Anschließend werden wir die beiden Verhältnisse als Kuchendiagramme visualisieren. "
   ]
  },
  {
   "cell_type": "code",
   "execution_count": 3,
   "metadata": {},
   "outputs": [
    {
     "name": "stdout",
     "output_type": "stream",
     "text": [
      "51 persons have a negative test result and 49 persons have a positive test result.\n",
      "50 Persons are healthy and 50 persons are ill.\n"
     ]
    }
   ],
   "source": [
    "nNegatives = len(np.where(D[:, 0] == 0)[0])\n",
    "nPositives = nPersons - nNegatives\n",
    "print(\"{0} persons have a negative test result and {1} persons have a positive test result.\"\n",
    "      .format(nNegatives, nPositives))\n",
    "nHealthy = len(np.where(D[:, 1] == 0)[0])\n",
    "nIll = nPersons - nHealthy\n",
    "print(\"{0} Persons are healthy and {1} persons are ill.\".format(nHealthy, nIll))"
   ]
  },
  {
   "cell_type": "code",
   "execution_count": 4,
   "metadata": {},
   "outputs": [],
   "source": [
    "def plotPie(x, xLabel, y, yLabel, title):\n",
    "    plt.rcParams['figure.figsize'] = [10, 8]\n",
    "    plt.pie([x, y],\n",
    "              colors = [\"red\", \"lightskyblue\"],\n",
    "              labels = [xLabel, yLabel],\n",
    "              autopct = \"%.1f%%\",\n",
    "              shadow = False,\n",
    "              startangle = 90)\n",
    "    plt.title(title)"
   ]
  },
  {
   "cell_type": "code",
   "execution_count": 5,
   "metadata": {},
   "outputs": [
    {
     "data": {
      "image/png": "[encoded data removed]",
      "text/plain": [
       "<Figure size 720x576 with 1 Axes>"
      ]
     },
     "metadata": {},
     "output_type": "display_data"
    }
   ],
   "source": [
    "plotPie(x=nNegatives, xLabel=\"Negatives\", y=nPositives, yLabel=\"Positives\", title=\"Test Results\")\n",
    "plt.show()"
   ]
  },
  {
   "cell_type": "code",
   "execution_count": 6,
   "metadata": {},
   "outputs": [
    {
     "data": {
      "image/png": "[encoded data removed]",
      "text/plain": [
       "<Figure size 720x576 with 1 Axes>"
      ]
     },
     "metadata": {},
     "output_type": "display_data"
    }
   ],
   "source": [
    "plotPie(x=nHealthy, xLabel=\"Healthy\", y=nIll, yLabel=\"Ill\", title=\"Status of Health\")\n",
    "plt.show()"
   ]
  },
  {
   "cell_type": "markdown",
   "metadata": {},
   "source": [
    "Die Wahrscheinlichkeit mit der die Krankheit auftritt wird Prävalenz bezeichnet. Konkret werden wir somit die Größen $Pr(K)$ und $Pr(\\bar{K})$ berechnen, welche im Code mit *probIll* und *probHealthy* bezeichnet sind. "
   ]
  },
  {
   "cell_type": "code",
   "execution_count": 7,
   "metadata": {},
   "outputs": [
    {
     "name": "stdout",
     "output_type": "stream",
     "text": [
      "The probability of meeting a healthy person is 0.5 and the probability of meeting an ill person is 0.5.\n"
     ]
    }
   ],
   "source": [
    "# Pr(not K)\n",
    "probHealthy = nHealthy / nPersons\n",
    "# Pr(K)\n",
    "probIll = 1 - probHealthy\n",
    "print(\"The probability of meeting a healthy person is {0} and the probability of meeting an ill person is {1}.\"\n",
    "      .format(probHealthy, probIll))"
   ]
  },
  {
   "cell_type": "markdown",
   "metadata": {},
   "source": [
    "Im nächsten Codeabschnitt bestimmen wir die Personen mit einem positiven Testergebnis. Diese benötigen wir um zu ermitteln, welche Personen davon gesund bzw. krank sind. Im ersten Fall sind die Personen gesucht, welche gesund sind und ein positives Testergebnis hatten. D.h. wir müssen zwischen diesen beiden Mengen den Schnitt berechnen. "
   ]
  },
  {
   "cell_type": "code",
   "execution_count": 8,
   "metadata": {},
   "outputs": [
    {
     "name": "stdout",
     "output_type": "stream",
     "text": [
      "Persons with a positive test result are for example: [ 2  5  6 10 11]\n"
     ]
    }
   ],
   "source": [
    "# determine all persons that had a positive test result.\n",
    "personsPositive = np.where(D[:, 0] == 1)[0]\n",
    "if nPositives >= 5:\n",
    "    print(\"Persons with a positive test result are for example: {0}\".format(personsPositive[:5]))"
   ]
  },
  {
   "cell_type": "markdown",
   "metadata": {},
   "source": [
    "Nun wollen wir die Wahrscheinlichkeit das ein Test positiv ausfällt unter der Bedingung berechnen, dass jemand gesund ist. Formal wird die Wahrscheinlichkeit mit $Pr(T \\vert \\bar{K})$ angegeben. Der oben erwähnte Schnitt wird mit der numpy Funktion *intersect1d* berechnet. "
   ]
  },
  {
   "cell_type": "code",
   "execution_count": 9,
   "metadata": {},
   "outputs": [
    {
     "name": "stdout",
     "output_type": "stream",
     "text": [
      "Healthy persons are for example: [1 2 3 5 6]\n",
      "Persons that are healthy and had a positive test result are for example: [ 2  5  6 16 24]\n",
      "In total, 24 out of 50 persons are healthy and had a positive test result\n",
      "The probability that a healthy person gets a positive test result is: 0.48\n"
     ]
    }
   ],
   "source": [
    "# determine all healthy persons.\n",
    "personsHealthy = np.where(D[:, 1] == 0)[0]\n",
    "if nHealthy >= 5:\n",
    "    print(\"Healthy persons are for example: {0}\".format(personsHealthy[:5]))\n",
    "\n",
    "personsHealthyPositive = np.intersect1d(personsPositive, personsHealthy)\n",
    "nHealthyPositive = len(personsHealthyPositive)\n",
    "if nHealthyPositive >= 5:\n",
    "    print(\"Persons that are healthy and had a positive test result are for example: {0}\"\n",
    "          .format(personsHealthyPositive[:5]))\n",
    "print(\"In total, {0} out of {1} persons are healthy and had a positive test result\"\n",
    "      .format(nHealthyPositive, nHealthy))\n",
    "# Pr(T|not K)\n",
    "probHealthyPositive = nHealthyPositive / nHealthy\n",
    "print(\"The probability that a healthy person gets a positive test result is: {0}\".format(probHealthyPositive))"
   ]
  },
  {
   "cell_type": "markdown",
   "metadata": {},
   "source": [
    "Die Wahrscheinlichkeit $Pr(T \\vert K)$ wird analog zu dem obigen Abschnitt berechnet. "
   ]
  },
  {
   "cell_type": "code",
   "execution_count": 10,
   "metadata": {},
   "outputs": [
    {
     "name": "stdout",
     "output_type": "stream",
     "text": [
      "Ill persons are for example: [0 4 7 8 9]\n",
      "Persons that are ill and had a positive test result are for example: [10 11 13 18 31]\n",
      "In total, 25 out of 50 persons are ill and had a positive test result\n",
      "The probability that an ill person gets a positive test result is: 0.5\n"
     ]
    }
   ],
   "source": [
    "# determine all healthy persons.\n",
    "personsIll = np.where(D[:, 1] == 1)[0]\n",
    "if nIll >= 5:\n",
    "    print(\"Ill persons are for example: {0}\".format(personsIll[:5]))\n",
    "\n",
    "personsIllPositive = np.intersect1d(personsPositive, personsIll)\n",
    "nIllPositive = len(personsIllPositive)\n",
    "if nIllPositive >= 5:\n",
    "    print(\"Persons that are ill and had a positive test result are for example: {0}\"\n",
    "          .format(personsIllPositive[:5]))\n",
    "print(\"In total, {0} out of {1} persons are ill and had a positive test result\"\n",
    "      .format(nIllPositive, nIll))\n",
    "# Pr(T|K)\n",
    "probIllPositive = nIllPositive / nIll\n",
    "print(\"The probability that an ill person gets a positive test result is: {0}\".format(probIllPositive))"
   ]
  },
  {
   "cell_type": "markdown",
   "metadata": {},
   "source": [
    "Zuletzt kann die gesuchte Wahrscheinlichkeit $Pr(K \\vert T) = \\frac{Pr(T \\vert K) \\cdot Pr(K)}{Pr(T \\vert \\bar{K}) \\cdot Pr(\\bar{K}) + Pr(T \\vert K) \\cdot Pr(K)}$ berechnet werden."
   ]
  },
  {
   "cell_type": "code",
   "execution_count": 11,
   "metadata": {},
   "outputs": [
    {
     "name": "stdout",
     "output_type": "stream",
     "text": [
      "The probability that a person gets a positive test result and is really ill is: 0.5102040816326531\n"
     ]
    }
   ],
   "source": [
    "propPositiveIll = (probIllPositive * probIll) / ((probHealthyPositive * probHealthy) + (probIllPositive * probIll))\n",
    "print(\"The probability that a person gets a positive test result and is really ill is: {0}\".format(propPositiveIll))"
   ]
  },
  {
   "cell_type": "markdown",
   "metadata": {},
   "source": [
    "## Aufgabe\n",
    "Wie ändert sich die $Pr(K \\vert T)$, wenn die Anzahl der kranken Personen variiert wird? Zur Beantwortung der Frage wird die erste Spalte des Datensatzes *D* konstant gehalten. Wir verändern nur die zweite Spalte und inkrementieren die Anzahl der kranken Personen in einer *for*-Schleife. Nutzen Sie die den Datensatz *DTmp* und die Anzahl der gesunden und kranken Personen, um wie in der obigen Erläuterung den Wert von $Pr(K \\vert T)$ zu bestimmen. Jeder entsprechende Wert von $Pr(K \\vert T)$ mit der Steigerung der kranken Personen wird in einer Liste gespeichert und anschließend visualisiert."
   ]
  },
  {
   "cell_type": "code",
   "execution_count": 12,
   "metadata": {},
   "outputs": [
    {
     "data": {
      "image/png": "[encoded data removed]",
      "text/plain": [
       "<Figure size 720x576 with 1 Axes>"
      ]
     },
     "metadata": {
      "needs_background": "light"
     },
     "output_type": "display_data"
    }
   ],
   "source": [
    "# persons with a positive test result\n",
    "personsPositive = np.where(D[:, 0] == 1)[0]\n",
    "\n",
    "# list to store the results\n",
    "results = []\n",
    "# list with number of ill persons: [1, 2, 3, ..., nPersons - 1]\n",
    "nIllPersons = list(range(1, nPersons))\n",
    "\n",
    "for i in nIllPersons:\n",
    "    # copy the dataset and reset second column (all persons are healthy)\n",
    "    DTmp = np.array(D, copy=True)\n",
    "    DTmp[:, 1] = 0\n",
    "    # set the health status of i persons to ill\n",
    "    DTmp[:i, 1] = 1\n",
    "    \n",
    "    # number of healthy persons\n",
    "    nHealthyTmp = nPersons - i\n",
    "    # number of ill persons\n",
    "    nIllTmp = i\n",
    "\n",
    "    '''\n",
    "    Your solution here!!!\n",
    "    Hint: Feel free to define functions before this for-loop\n",
    "    '''\n",
    "\n",
    "    # TODO: Calculate the correct value for this variable (Pr(K|T))!\n",
    "    propPositiveIllTmp = 0    \n",
    "    '''\n",
    "    End of solution!!!\n",
    "    '''\n",
    "    results.append(propPositiveIllTmp)\n",
    "\n",
    "# plot the results\n",
    "_, ax = plt.subplots()\n",
    "ax.plot(nIllPersons, results)\n",
    "\n",
    "ax.set(xlabel=\"number of ill persons\", ylabel=\"Pr(K|T)\",\n",
    "       title=\"Probability of being ill if the test is positive ({0} persons)\".format(nPersons))\n",
    "ax.grid()\n",
    "plt.show()\n"
   ]
  }
 ],
 "metadata": {
  "kernelspec": {
   "display_name": "Python 3",
   "language": "python",
   "name": "python3"
  },
  "language_info": {
   "codemirror_mode": {
    "name": "ipython",
    "version": 3
   },
   "file_extension": ".py",
   "mimetype": "text/x-python",
   "name": "python",
   "nbconvert_exporter": "python",
   "pygments_lexer": "ipython3",
   "version": "3.6.8"
  }
 },
 "nbformat": 4,
 "nbformat_minor": 4
}
