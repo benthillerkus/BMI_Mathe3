{
 "cells": [
  {
   "cell_type": "markdown",
   "metadata": {},
   "source": [
    "# Monty Hall Problem\n",
    "## Motivierendes Beispiel\n",
    "Der erste Teil des Codes bis zur Erklärung mit dem Satz von Bayes ist eine modifizierte Version des Codes von J. Mora [1]. \n",
    "\n",
    "Das Monty Hall Problem lautet folgendermaßen:\n",
    "\n",
    "\"Nehmen Sie an, Sie wären in einer Spielshow [names Monty Hall] und hätten die Wahl zwischen drei Toren. Hinter einem der Tore ist ein Auto, hinter den anderen sind Ziegen. Sie wählen ein Tor, sagen wir, Tor Nummer 1, und der Showmaster [names Monty], der weiß, was hinter den Toren ist, öffnet ein anderes Tor, sagen wir, Nummer 3, hinter dem eine Ziege steht. Er fragt Sie nun: ‚Möchten Sie das Tor Nummer 2?‘ Ist es von Vorteil, die Wahl des Tores zu ändern?\" [2]. \n",
    "\n",
    "Wir wollen das Problem aus der Beschreibung zunächst simulieren, um ein Indiz zu bekommen, ob das Wechseln des Tores einen Vorteil für den Kandidaten bringt."
   ]
  },
  {
   "cell_type": "markdown",
   "metadata": {},
   "source": [
    "Zunächst werden die notwendigen Bibliotheken zum Ausführen des Codes dieses Notebooks importiert. Falls eine der Bibliotheken nicht auf ihrem System vorhanden sind können Sie diese mit pip und der beiliegenden Datei [requirements.txt](./requirements.txt). Wie sie beispielsweise die benötigten Bibliotheken mit pip installieren wird [auf dieser Seite](https://note.nkmk.me/en/python-pip-install-requirements/) erklärt. "
   ]
  },
  {
   "cell_type": "code",
   "execution_count": 2,
   "metadata": {},
   "outputs": [],
   "source": [
    "import random\n",
    "import matplotlib.pyplot as plt\n",
    "import scipy.special"
   ]
  },
  {
   "cell_type": "code",
   "execution_count": 2,
   "metadata": {},
   "outputs": [],
   "source": [
    "random.seed(42)"
   ]
  },
  {
   "cell_type": "markdown",
   "metadata": {},
   "source": [
    "In der folgenden Funktion wählt Monty (der Moderator) ein Ziegentor aus, welches nicht vom Kandidaten gewählt wurde. "
   ]
  },
  {
   "cell_type": "code",
   "execution_count": 3,
   "metadata": {},
   "outputs": [],
   "source": [
    "# Monty is choosing a door that has a goat after the contestant has chosen one\n",
    "def montyChoose(guessDoor, prizeDoor): \n",
    "    if 1 != guessDoor and 1 != prizeDoor:\n",
    "        return 1\n",
    "    if 2 != guessDoor and 2 != prizeDoor:\n",
    "        return 2\n",
    "    return 3"
   ]
  },
  {
   "cell_type": "markdown",
   "metadata": {},
   "source": [
    "Anschließend folgt eine Funktion, welche das Problem simuliert. Hierbei wird die Anzahl der Simulationen eingegeben und die Ausgänge zugegeben. Mögliche Ausgänge sind, dass der Kandidat durch wechseln oder nicht wechseln gewinnt, was im Code durch *switchWins* und *noSwitchWins* dargestellt wird. "
   ]
  },
  {
   "cell_type": "code",
   "execution_count": 4,
   "metadata": {},
   "outputs": [],
   "source": [
    "def simMontyHall(numTrials):\n",
    "    '''\n",
    "    Parameters:\n",
    "        numTrials (int): \n",
    "            How many games should be played?\n",
    "    \n",
    "    Returns:\n",
    "        noSwitchWins (int): \n",
    "            number of times the candidate wins by not switching\n",
    "        switchWins (int):\n",
    "            number of times the candidate wins by switching\n",
    "    '''\n",
    "    noSwitchWins, switchWins = (0, 0)\n",
    "\n",
    "    for t in range(numTrials):\n",
    "        # select random doors for the prize and the guess of the candidate\n",
    "        prizeDoor = random.choice([1, 2, 3])\n",
    "        guess = random.choice([1, 2, 3])\n",
    "        if guess == prizeDoor:\n",
    "            noSwitchWins += 1\n",
    "        else:\n",
    "            switchWins += 1\n",
    "    return (noSwitchWins, switchWins)"
   ]
  },
  {
   "cell_type": "markdown",
   "metadata": {},
   "source": [
    "Zuletzt wird hier noch eine Funktion definiert, welche die Ausgänge des Experimentes als Kuchendiagramm anzeigt. "
   ]
  },
  {
   "cell_type": "code",
   "execution_count": 5,
   "metadata": {},
   "outputs": [],
   "source": [
    "def displayMHSim(simResults, title):\n",
    "    stickWins, switchWins = simResults\n",
    "    plt.rcParams[\"figure.figsize\"] = [10, 8]\n",
    "    plt.pie([stickWins, switchWins],\n",
    "              colors = [\"red\", \"lightskyblue\"],\n",
    "              labels = [\"Not Switching\", \"Switching\"],\n",
    "              autopct = \"%.1f%%\",\n",
    "              shadow = False,\n",
    "              startangle = 90)\n",
    "    plt.title(title)"
   ]
  },
  {
   "cell_type": "markdown",
   "metadata": {},
   "source": [
    "Nun führen wir das Experiment mit 100000 Durchläufen aus. Fühlen Sie sich frei die Anzahl der Durchläufe zu verändern. "
   ]
  },
  {
   "cell_type": "code",
   "execution_count": 6,
   "metadata": {},
   "outputs": [
    {
     "name": "stdout",
     "output_type": "stream",
     "text": [
      "No Switch Wins: 33456/100000, Switch Wins: 66544/100000\n"
     ]
    },
    {
     "data": {
      "image/png": "[encoded data removed]",
      "text/plain": [
       "<Figure size 720x576 with 1 Axes>"
      ]
     },
     "metadata": {},
     "output_type": "display_data"
    }
   ],
   "source": [
    "numTrials = 100000\n",
    "simResults = simMontyHall(numTrials=numTrials)\n",
    "print(\"No Switch Wins: {0}/{2}, Switch Wins: {1}/{2}\".format(simResults[0], simResults[1], numTrials))\n",
    "displayMHSim(simResults, \"Monty Chooses a Door\")\n",
    "plt.show()"
   ]
  },
  {
   "cell_type": "markdown",
   "metadata": {},
   "source": [
    "## Erklärung mit dem Satz von Bayes\n",
    "Im Folgenden wird eine Erklärung der Ergebnisse mit Hilfe des Satz von Bayes gegeben. Durch den Satz von Bayes können wir die Wahrscheinlichkeit $Pr(A_i \\vert B) = \\frac{Pr(B \\vert A_i) \\cdot Pr(A_i)}{Pr(B)}$ berechnen. \n",
    "Zwar bietet der folgende Text eine Erklärung mit 3 Toren, jedoch können Sie gerne die Anzahl der Tore im Code-Beispiel erhöhen.  \n",
    "\n",
    "Durch die Problembeschreibung wissen wir, dass es 3 Tore gibt, welche wir mit $1$, $2$ und $3$ betiteln.\n",
    "Sei $P=x, x \\in \\{1,2,3\\}$ das Ereignis, dass sich der Preis hinter dem Tor x befindet. \n",
    "Sei $M=x$ das Ereignis des Aufdeckens eines Tores durch Monty. "
   ]
  },
  {
   "cell_type": "code",
   "execution_count": 3,
   "metadata": {},
   "outputs": [
    {
     "name": "stdout",
     "output_type": "stream",
     "text": [
      "We have the following doors: [1, 2, 3]\n"
     ]
    }
   ],
   "source": [
    "# please use at least three doors\n",
    "numDoors = 3\n",
    "\n",
    "if numDoors < 3:\n",
    "    numDoors = 3\n",
    "\n",
    "# for example 1, 2, 3, ..., numDoors\n",
    "doors = list(range(1, numDoors + 1))\n",
    "print(\"We have the following doors:\", doors)"
   ]
  },
  {
   "cell_type": "markdown",
   "metadata": {},
   "source": [
    "Wir betrachten nun $M=2$ und nehmen dabei an, dass sich der Preis hinter dem Tor $1$ oder $3$ befindet. Wir wissen das hinter Tor $2$ kein Preis ist, da Monty immer ein Ziegentor aufdeckt. Des Weiteren wird davon ausgegangen, dass der Kandidat das Tor $1$ gewählt hat."
   ]
  },
  {
   "cell_type": "code",
   "execution_count": 4,
   "metadata": {},
   "outputs": [
    {
     "name": "stdout",
     "output_type": "stream",
     "text": [
      "The candidate chooses door 1 and the prize is behind door 2.\n",
      "Monty will open all other doors -- in this case: [3]\n"
     ]
    }
   ],
   "source": [
    "# door which is chosen by the candidate\n",
    "guess = 1\n",
    "# door with the price\n",
    "prize = 2\n",
    "\n",
    "# in case of an invalid input\n",
    "if guess < 0 or guess > numDoors:\n",
    "    guess = 1\n",
    "if prize < 0 or prize > numDoors or prize == guess:\n",
    "    if guess == 1:\n",
    "        prize = 2\n",
    "    elif guess == numDoors:\n",
    "        prize = numDoors - 1\n",
    "\n",
    "# create a list of all doors that are opened by monty\n",
    "monty = doors.copy()\n",
    "monty.remove(guess)\n",
    "monty.remove(prize)\n",
    "\n",
    "print(\"The candidate chooses door {0} and the prize is behind door {1}.\".format(guess, prize))\n",
    "print(\"Monty will open all other doors -- in this case: {0}\".format(monty))"
   ]
  },
  {
   "cell_type": "markdown",
   "metadata": {},
   "source": [
    "Gesucht sind die Wahrscheinlichkeiten $Pr(P=1 \\vert M=2)$ sowie $Pr(P=3 \\vert M=2)$.\n",
    "$Pr(P=1 \\vert M=2)$ ist die Wahrscheinlichkeit dafür, dass der Preis hinter Tor $1$ steckt, wenn Monty das Ziegen-Tor $2$ aufdeckt hat. Nach der Auswertung von $Pr(P=1 \\vert M=2)$ und $Pr(P=3 \\vert M=2)$ kann der Kandidat sich für die höhere Wahrscheinlichkeit entscheiden. Zur Berechnung der Wahrscheinlichkeiten verwenden wir den oben aufgeführten Satz von Bayes, welcher in unserem Fall für $P=1$ wie folgt aussieht: $Pr(P=1 \\vert M=2) = \\frac{Pr(M=2 \\vert P=1) \\cdot Pr(P=1)}{Pr(M=2)}$.\n",
    "Somit müssen wir $Pr(P=1)$ und $Pr(M=2 \\vert P=1)$ im Fall $P=1$ berechnen.\n",
    "\n",
    "Sei $Pr(P=1)$ die Wahrscheinlichkeit dafür, dass hinter Tor $1$ der Preis steckt und Monty noch kein Tor aufgedeckt hat. Der Preis könnte hinter jeder Tor sein, daher ergeben sich die Wahrscheinlichkeiten $Pr(P=1) = Pr(P=2) = Pr(P=3) = \\frac{1}{3}$. Diese Wahrscheinlichkeit wird auch a priori Wahrscheinlichkeit genannt und ist im Code als *prior* bezeichnet. "
   ]
  },
  {
   "cell_type": "code",
   "execution_count": 5,
   "metadata": {},
   "outputs": [
    {
     "name": "stdout",
     "output_type": "stream",
     "text": [
      "The probability of getting the prize if choosing any door is: 0.3333333333333333\n"
     ]
    }
   ],
   "source": [
    "prior = 1 / numDoors\n",
    "print(\"The probability of getting the prize if choosing any door is:\", prior)"
   ]
  },
  {
   "cell_type": "markdown",
   "metadata": {},
   "source": [
    "Sei $Pr(M=2 \\vert P=1)$ die Wahrscheinlichkeit dafür, dass Monty das Tor $2$ aufdeckt, wenn der Preis sich hinter Tor $1$ befindet. \n",
    "Für den Fall, dass sich der Preis hinter Tor $1$ befindet, öffnet Monty entweder Tor $2$ oder $3$. Wenn sich der Preis hinter Tor $3$ befindet, dann kann Monty nur das Tor $2$ wählen. Formal ausgedrückt bedeutet dies $Pr(M=2 \\vert P=1) = \\frac{1}{2}$ und $Pr(M=2 \\vert P=3) = 1$. Im Englischen wird eine Wahrscheinlichkeit wie $Pr(M=2 \\vert P=3)$ als *likelihood* Funktion bezeichnet. Daher werden im Code die *likehoods* für die Fälle $P=1$, $P=2$ und $P=3$ berechnet. \n",
    "\n",
    "Hierbei ist $Pr(M=2 \\vert P=2) = 0$, da Monty das Tor $2$ nicht öffnet, wenn sich darunter der Preis befindet. "
   ]
  },
  {
   "cell_type": "code",
   "execution_count": 6,
   "metadata": {},
   "outputs": [
    {
     "name": "stdout",
     "output_type": "stream",
     "text": [
      "Recall that the candidate guessed door 1\n",
      "Monty will open 1 door/s, namely: [3]\n",
      "\n",
      "The prize could be behind door 1\n",
      "Monty will open 1 door/s out of 2 available door/s\n",
      "Hence, there is/are 2.0 possibility/ies of choosing a/the door/s\n",
      "Monty only chooses 1 possibility. Therefore the likelihood is 1/2.0=0.5\n",
      "\n",
      "The prize could be behind door 2\n",
      "Monty will open 1 door/s out of 1 available door/s\n",
      "Hence, there is/are 1.0 possibility/ies of choosing a/the door/s\n",
      "Monty only chooses 1 possibility. Therefore the likelihood is 1/1.0=1.0\n",
      "\n",
      "The prize could be behind door 3 and monty will open this door -- Hence, the likelihood is 0\n"
     ]
    }
   ],
   "source": [
    "# P(M=2, M=4, M=5, ..., M=n | P=1)\n",
    "print(\"Recall that the candidate guessed door\", guess)\n",
    "print(\"Monty will open {0} door/s, namely: {1}\\n\".format(len(monty), monty))\n",
    "likelihoods = []\n",
    "# Consider all cases: P=1, P=2, ..., P=n\n",
    "for prizeDoor in doors:\n",
    "    # doors that could be opened by monty\n",
    "    doorsOpenedMonty = doors.copy()\n",
    "    likelihood = 0\n",
    "    # if the considered prizeDoor is acutally a goat door\n",
    "    if prizeDoor in monty:\n",
    "        # than the likelihood of opening this door is 0 as monty does not show the prize\n",
    "        doorsOpenedMonty = []\n",
    "        print(\"The prize could be behind door {0} and monty will open this door -- Hence, the likelihood is 0\"\n",
    "              .format(prizeDoor))\n",
    "    # if the considered prizeDoor is not a goat door\n",
    "    else:\n",
    "        print(\"The prize could be behind door\", prizeDoor)\n",
    "        # prize could be behind the guessed door\n",
    "        doorsOpenedMonty.remove(guess)\n",
    "        # in case that the prize is not behind the guessed door\n",
    "        if prizeDoor == prize:\n",
    "            # monty does not open the prize door\n",
    "            doorsOpenedMonty.remove(prizeDoor)\n",
    "    if len(doorsOpenedMonty) > 0:\n",
    "        # number of doors that could be potentially opened by monty\n",
    "        pot = len(doorsOpenedMonty)\n",
    "        poss = scipy.special.binom(pot, len(monty))\n",
    "        print((\"Monty will open {0} door/s out of {1} available door/s\\n\" + \n",
    "              \"Hence, there is/are {2} possibility/ies of choosing a/the door/s\")\n",
    "              .format(len(monty), len(doorsOpenedMonty), poss))\n",
    "        likelihood = 1 / poss\n",
    "        print(\"Monty only chooses 1 possibility. Therefore the likelihood is 1/{0}={1}\\n\".format(poss, likelihood))\n",
    "    likelihoods.append(likelihood)"
   ]
  },
  {
   "cell_type": "markdown",
   "metadata": {},
   "source": [
    "### Aufgabe: Vereinfachung des obigen Code-Blocks\n",
    "Versuchen Sie den obigen Codeblock mit $\\leq 6$ Zeilen Code (ohne Kommentare und Ausgaben) umzusetzen. Speichern Sie die dabei die *likelihoods* in der Variable *mLikelihoods*. "
   ]
  },
  {
   "cell_type": "code",
   "execution_count": 7,
   "metadata": {},
   "outputs": [
    {
     "name": "stdout",
     "output_type": "stream",
     "text": [
      "Try again!\n"
     ]
    }
   ],
   "source": [
    "mLikelihoods = [0] * len(doors)\n",
    "\n",
    "# helpful variables\n",
    "guessIdx = guess - 1\n",
    "prizeIdx = prize - 1\n",
    "lMonty = len(monty)\n",
    "lDoors = len(doors)\n",
    "\n",
    "'''\n",
    "Your solution here!!!\n",
    "'''\n",
    "\n",
    "\n",
    "'''\n",
    "End of solution!!!\n",
    "'''\n",
    "if mLikelihoods == likelihoods:\n",
    "    print(\"Well done!\")\n",
    "else: \n",
    "    print(\"Try again!\")"
   ]
  },
  {
   "cell_type": "markdown",
   "metadata": {},
   "source": [
    "Im obigen Codeblock (nicht Aufgabe) wurde der Binomialkoeffizient verwendet (siehe Zeile *poss = scipy.special.binom(pot, len(monty))*). Im Fall von $Pr(M=2 \\vert P=1) = \\frac{1}{2}$ steht die $2$ im Nenner, da dies die Anzahl der Möglichkeiten darstellt aus $2$ verfügbaren Toren $1$ Tor zu wählen. Somit wird der Binomialkoeffizient ${2 \\choose 1} = 2$ angewendet. Im Fall der Wahl von $98$ Toren aus $99$ verfügbaren Toren ergibt sich der Koeffizient ${99 \\choose 98} = 99$, sprich die Anzahl an Möglichkeiten $98$ Tore von $99$ vorhanden Toren zu wählen.\n",
    "\n",
    "Mit Hilfe der totalen Wahrscheinlichkeit muss noch die Konstante $Pr(M=2)$ berechnet werden. $Pr(M=2)$ ist die Wahrscheinlichkeit dafür, dass Monty das Tor $2$ öffnet. Des Weiteren gilt hier der betrachtete Fall, dass sich hinter Tor $1$ oder $3$ der Preis befindet.\n",
    "\n",
    "Hierbei ist die totale Wahrscheinlichkeit $Pr(M=2) = Pr(M=2 \\vert P=1) \\cdot Pr(P=1) + Pr(M=2 \\vert P=2) \\cdot Pr(P=2) +  Pr(M=2 \\vert P=3) \\cdot Pr(P=3) = \\frac{1}{2} \\cdot \\frac{1}{3} + 0 \\cdot \\frac{1}{3} + 1 \\cdot \\frac{1}{3} = \\frac{1}{6} + \\frac{1}{3} = \\frac{1}{2}$."
   ]
  },
  {
   "cell_type": "code",
   "execution_count": 7,
   "metadata": {},
   "outputs": [
    {
     "name": "stdout",
     "output_type": "stream",
     "text": [
      "0.11111111111111112\n"
     ]
    }
   ],
   "source": [
    "marginalLikelihood = prior * sum(likelihoods)\n",
    "print(marginalLikelihood)"
   ]
  },
  {
   "cell_type": "markdown",
   "metadata": {},
   "source": [
    "Da für alle Tore die a priori Wahrscheinlichkeit $Pr(P=x) = \\frac{1}{\\vert \\{1, 2, 3\\} \\vert} = \\frac{1}{3}$ ist, kann im Code die totale Wahrscheinlichkeit $Pr(M=2)$ folgendermaßen berechnet werden: $Pr(M=2) = \\frac{1}{3} \\cdot \\sum^{\\{1, 2, 3\\}}_{i=1} Pr(M=2 \\vert P=i)$. Darüberhinaus wird die totale Wahrscheinlichkeit im Englischen auch als *marginal likelihood* bezeichnet. \n",
    "\n",
    "Somit ergeben sich letztendlich für die a posteriori Wahrscheinlichkeiten $Pr(P=1 \\vert M=2) = \\frac{Pr(M=2 \\vert P=1) \\cdot Pr(P=1)}{Pr(M=2)} = \\frac{\\frac{1}{6}}{\\frac{1}{2}} = \\frac{1}{3}$ und für $Pr(P=3 \\vert M=2) = \\frac{Pr(M=2 \\vert P=3) \\cdot Pr(P=3)}{Pr(M=2)} = \\frac{\\frac{1}{3}}{\\frac{1}{2}} = \\frac{2}{3}$. "
   ]
  },
  {
   "cell_type": "code",
   "execution_count": 8,
   "metadata": {
    "scrolled": true
   },
   "outputs": [
    {
     "name": "stdout",
     "output_type": "stream",
     "text": [
      "0.09999999999999999\n",
      "0.9\n"
     ]
    },
    {
     "data": {
      "image/png": "[encoded data removed]",
      "text/plain": [
       "<Figure size 432x288 with 1 Axes>"
      ]
     },
     "metadata": {
      "needs_background": "light"
     },
     "output_type": "display_data"
    }
   ],
   "source": [
    "posteriors = []\n",
    "for likelihood in likelihoods:\n",
    "    posterior = (likelihood * prior) / marginalLikelihood\n",
    "    posteriors.append(posterior)\n",
    "    if posterior != 0:\n",
    "        print(posterior)\n",
    "\n",
    "plt.bar(range(len(posteriors)), posteriors)\n",
    "plt.show()"
   ]
  },
  {
   "cell_type": "markdown",
   "metadata": {},
   "source": [
    "Somit ist es für den Kandidaten besser das Tor zu wechseln. "
   ]
  },
  {
   "cell_type": "markdown",
   "metadata": {},
   "source": [
    "# Quellen\n",
    "[1] The Monty Hall Problem, J. Mora, URL: https://jvmora.wordpress.com/2018/05/29/the-monty-hall-problem/ (Zugegriffen am 01.09.2020)\n",
    "\n",
    "[2] Ask Marilyn, Craig F. Whitaker, In: Parade Magazine, 9. September 1990, S. 16"
   ]
  }
 ],
 "metadata": {
  "kernelspec": {
   "display_name": "Python 3",
   "language": "python",
   "name": "python3"
  },
  "language_info": {
   "codemirror_mode": {
    "name": "ipython",
    "version": 3
   },
   "file_extension": ".py",
   "mimetype": "text/x-python",
   "name": "python",
   "nbconvert_exporter": "python",
   "pygments_lexer": "ipython3",
   "version": "3.6.8"
  }
 },
 "nbformat": 4,
 "nbformat_minor": 4
}
