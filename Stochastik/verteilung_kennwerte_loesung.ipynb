{
 "cells": [
  {
   "cell_type": "markdown",
   "metadata": {},
   "source": [
    "# Wahrscheinlichkeitsverteilung einer diskreten Zufallsvariable und Kennwerte\n",
    "Im diesem Notebook werden wir uns praktisch mit einer Wahrscheinlichkeitsfunktion, ihrer Verteilungsfunktion und dem Erwartungswert beschäftigen. \n",
    "Dazu werden wir durch das Würfeln mit einem nicht perfekten Würfel eine Wahrscheinlichkeitsfunktion simulieren. Zunächst importieren wir die benötigten Bibliotheken. "
   ]
  },
  {
   "cell_type": "code",
   "execution_count": 1,
   "metadata": {},
   "outputs": [],
   "source": [
    "import numpy as np\n",
    "import matplotlib.pyplot as plt"
   ]
  },
  {
   "cell_type": "markdown",
   "metadata": {},
   "source": [
    "Wir werfen den Würfel 100 mal."
   ]
  },
  {
   "cell_type": "code",
   "execution_count": 2,
   "metadata": {},
   "outputs": [
    {
     "name": "stdout",
     "output_type": "stream",
     "text": [
      "Results of the first five trials: [5 2 1 3 4]\n"
     ]
    }
   ],
   "source": [
    "# number of trails\n",
    "nTrials = 100\n",
    "if nTrials < 6:\n",
    "    nTrials = 100\n",
    "\n",
    "# get a random array with numbers between inclusive 1 and inclusive 6\n",
    "dice = np.random.randint(low=1, high=7, size=100)\n",
    "if nTrials >= 5:\n",
    "    print(\"Results of the first five trials: {0}\".format(dice[:5]))"
   ]
  },
  {
   "cell_type": "markdown",
   "metadata": {},
   "source": [
    "## Wahrscheinlichkeitsfunktion\n",
    "Basierend auf den Würfelergebnissen, welche in der Variable *dice* gespeichert sind, ermitteln wir die Wahrscheinlichkeitsfunktion. Hierzu bestimmen wir zunächst, wie oft welche Zahl gewürfelt wurde. "
   ]
  },
  {
   "cell_type": "code",
   "execution_count": 3,
   "metadata": {},
   "outputs": [
    {
     "data": {
      "image/png": "[encoded data removed]",
      "text/plain": [
       "<Figure size 432x288 with 1 Axes>"
      ]
     },
     "metadata": {
      "needs_background": "light"
     },
     "output_type": "display_data"
    }
   ],
   "source": [
    "# list with possible values when throwing a dice [1,2,3,4,5,6]\n",
    "diceValues = list(range(1, 7))\n",
    "# list which will be later used to store the probabilities for the numbers that we have thrown\n",
    "propDice = []\n",
    "# create a histogram (could also be done with np.unique())\n",
    "for i in diceValues:\n",
    "    # count the number of throwing a 1, 2, 3, ... and append it to the list\n",
    "    propDice.append(len(np.where(dice == i)[0]))\n",
    "# convert list to a numpy array to apply arithmetic operation\n",
    "propDice = np.array(propDice)\n",
    "# plot the histogram\n",
    "plt.bar(diceValues, propDice)\n",
    "plt.show()"
   ]
  },
  {
   "cell_type": "markdown",
   "metadata": {},
   "source": [
    "Nun teilen wir noch die Vorkommen der verschiedenen Augenanzahl durch die Anzahl der Experimente *nTrials*, welche wir durchgeführt haben. "
   ]
  },
  {
   "cell_type": "code",
   "execution_count": 4,
   "metadata": {},
   "outputs": [
    {
     "name": "stdout",
     "output_type": "stream",
     "text": [
      "probility function: [0.18 0.17 0.2  0.14 0.22 0.09]\n",
      "Sum of the probility function values: 1.0\n"
     ]
    },
    {
     "data": {
      "image/png": "[encoded data removed]",
      "text/plain": [
       "<Figure size 432x288 with 1 Axes>"
      ]
     },
     "metadata": {
      "needs_background": "light"
     },
     "output_type": "display_data"
    }
   ],
   "source": [
    "# calculate probabilities from the histogram\n",
    "propDice = propDice / nTrials\n",
    "print(\"probility function: {0}\".format(propDice))\n",
    "print(\"Sum of the probility function values: {0}\".format(np.sum(propDice)))\n",
    "# visualize the result\n",
    "plt.bar(diceValues, propDice)\n",
    "plt.show()"
   ]
  },
  {
   "cell_type": "markdown",
   "metadata": {},
   "source": [
    "## Aufgabe: Verteilungsfunktion\n",
    "Bestimme die Verteilungsfunktion $F(x) = \\sum_{x_i \\leq x} f(x_i)$ im Intervall $[0,6]$. Ergänze dazu den Code im unten stehenden Codeabschnitt.  "
   ]
  },
  {
   "cell_type": "code",
   "execution_count": 5,
   "metadata": {},
   "outputs": [
    {
     "name": "stdout",
     "output_type": "stream",
     "text": [
      "distribution function: [0, 0.18, 0.35, 0.55, 0.6900000000000001, 0.91, 1.0]\n"
     ]
    }
   ],
   "source": [
    "dist = []\n",
    "# calculate the distribution function\n",
    "for diceValue in diceValues: \n",
    "    sum = 0\n",
    "    '''\n",
    "    Your solution here!!!\n",
    "    Hint: \n",
    "    Calculate the appropriate value for the variable sum. \n",
    "    The probability function is stored as numpy array propDice.\n",
    "    You can work with slicing - propDice[a:b] returns an array with the values of probDice from a to b.\n",
    "    You can use np.sum() to sum up the values of an array.\n",
    "    '''\n",
    "    # sum up the probabilities always to a certain dice value, e.g. form 1 to 1, from 1 to 2, from 1 to 3\n",
    "    sum = np.sum(propDice[:diceValue])\n",
    "    '''\n",
    "    End of solution!!!\n",
    "    '''\n",
    "    dist.append(sum)\n",
    "\n",
    "if len(dist) != 6: \n",
    "    print(\"error: length of dist should be 6\")\n",
    "# insert 0 for the visualisation\n",
    "dist.insert(0, 0)\n",
    "print(\"distribution function: {0}\".format(dist))"
   ]
  },
  {
   "cell_type": "code",
   "execution_count": 6,
   "metadata": {},
   "outputs": [
    {
     "data": {
      "image/png": "[encoded data removed]",
      "text/plain": [
       "<Figure size 432x288 with 1 Axes>"
      ]
     },
     "metadata": {
      "needs_background": "light"
     },
     "output_type": "display_data"
    }
   ],
   "source": [
    "# values of the dice of the distribution function\n",
    "distValues = list(range(7))\n",
    "plt.bar(distValues, dist)\n",
    "plt.show()"
   ]
  },
  {
   "cell_type": "markdown",
   "metadata": {},
   "source": [
    "Um die Wahrscheinlichkeit zu ermitteln, dass einen Wurf zwischen 3 und inklusive 5 zu werfen, können wir die Verteilungsfunktion nutzen. Hierbei verwenden wir die Formel: $Pr(3 < X \\leq 5) = F(5) - F(3)$."
   ]
  },
  {
   "cell_type": "code",
   "execution_count": 7,
   "metadata": {},
   "outputs": [
    {
     "name": "stdout",
     "output_type": "stream",
     "text": [
      "0.36\n"
     ]
    }
   ],
   "source": [
    "# P(3 < X <= 5) = F(5) - F(3)\n",
    "prob = dist[5] - dist[3]\n",
    "print(prob)"
   ]
  },
  {
   "cell_type": "markdown",
   "metadata": {},
   "source": [
    "## Erwartungswert\n",
    "Zuletzt bestimmt wir noch den Erwartungswert $E = \\sum x_i \\cdot f(x_i)$ der Wahrscheinlichkeitsfunktion. Der Erwartungswert gibt an, welche Zahl die Zufallsvariable im Mittel annimmt. "
   ]
  },
  {
   "cell_type": "code",
   "execution_count": 8,
   "metadata": {},
   "outputs": [
    {
     "name": "stdout",
     "output_type": "stream",
     "text": [
      "3.3200000000000003\n"
     ]
    }
   ],
   "source": [
    "# pointwise multiplication\n",
    "E = np.multiply(diceValues, propDice)\n",
    "# sum up all weighted values\n",
    "E = np.sum(E)\n",
    "print(E)"
   ]
  }
 ],
 "metadata": {
  "kernelspec": {
   "display_name": "Python 3",
   "language": "python",
   "name": "python3"
  },
  "language_info": {
   "codemirror_mode": {
    "name": "ipython",
    "version": 3
   },
   "file_extension": ".py",
   "mimetype": "text/x-python",
   "name": "python",
   "nbconvert_exporter": "python",
   "pygments_lexer": "ipython3",
   "version": "3.7.1"
  }
 },
 "nbformat": 4,
 "nbformat_minor": 2
}
